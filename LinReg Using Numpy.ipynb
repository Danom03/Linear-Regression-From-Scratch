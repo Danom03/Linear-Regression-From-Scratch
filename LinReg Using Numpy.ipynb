{
 "cells": [
  {
   "cell_type": "markdown",
   "id": "4843d542",
   "metadata": {},
   "source": [
    "# Importing Libraries "
   ]
  },
  {
   "cell_type": "code",
   "execution_count": 32,
   "id": "098ced57",
   "metadata": {},
   "outputs": [],
   "source": [
    "import numpy as np\n",
    "import pandas as pd\n",
    "import matplotlib.pyplot as plt"
   ]
  },
  {
   "cell_type": "markdown",
   "id": "1b143119",
   "metadata": {},
   "source": [
    "# Data Preprocessing "
   ]
  },
  {
   "cell_type": "markdown",
   "id": "78791cd0",
   "metadata": {},
   "source": [
    "### 1. Loading Data "
   ]
  },
  {
   "cell_type": "code",
   "execution_count": 33,
   "id": "58a75e4f",
   "metadata": {},
   "outputs": [
    {
     "data": {
      "text/html": [
       "<div>\n",
       "<style scoped>\n",
       "    .dataframe tbody tr th:only-of-type {\n",
       "        vertical-align: middle;\n",
       "    }\n",
       "\n",
       "    .dataframe tbody tr th {\n",
       "        vertical-align: top;\n",
       "    }\n",
       "\n",
       "    .dataframe thead th {\n",
       "        text-align: right;\n",
       "    }\n",
       "</style>\n",
       "<table border=\"1\" class=\"dataframe\">\n",
       "  <thead>\n",
       "    <tr style=\"text-align: right;\">\n",
       "      <th></th>\n",
       "      <th>Country</th>\n",
       "      <th>HappinessScore</th>\n",
       "      <th>Beer_PerCapita</th>\n",
       "      <th>Spirit_PerCapita</th>\n",
       "      <th>Wine_PerCapita</th>\n",
       "    </tr>\n",
       "  </thead>\n",
       "  <tbody>\n",
       "    <tr>\n",
       "      <th>0</th>\n",
       "      <td>Denmark</td>\n",
       "      <td>7.526</td>\n",
       "      <td>224</td>\n",
       "      <td>81</td>\n",
       "      <td>278</td>\n",
       "    </tr>\n",
       "    <tr>\n",
       "      <th>1</th>\n",
       "      <td>Switzerland</td>\n",
       "      <td>7.509</td>\n",
       "      <td>185</td>\n",
       "      <td>100</td>\n",
       "      <td>280</td>\n",
       "    </tr>\n",
       "    <tr>\n",
       "      <th>2</th>\n",
       "      <td>Iceland</td>\n",
       "      <td>7.501</td>\n",
       "      <td>233</td>\n",
       "      <td>61</td>\n",
       "      <td>78</td>\n",
       "    </tr>\n",
       "    <tr>\n",
       "      <th>3</th>\n",
       "      <td>Norway</td>\n",
       "      <td>7.498</td>\n",
       "      <td>169</td>\n",
       "      <td>71</td>\n",
       "      <td>129</td>\n",
       "    </tr>\n",
       "    <tr>\n",
       "      <th>4</th>\n",
       "      <td>Finland</td>\n",
       "      <td>7.413</td>\n",
       "      <td>263</td>\n",
       "      <td>133</td>\n",
       "      <td>97</td>\n",
       "    </tr>\n",
       "  </tbody>\n",
       "</table>\n",
       "</div>"
      ],
      "text/plain": [
       "       Country  HappinessScore  Beer_PerCapita  Spirit_PerCapita  \\\n",
       "0      Denmark           7.526             224                81   \n",
       "1  Switzerland           7.509             185               100   \n",
       "2      Iceland           7.501             233                61   \n",
       "3       Norway           7.498             169                71   \n",
       "4      Finland           7.413             263               133   \n",
       "\n",
       "   Wine_PerCapita  \n",
       "0             278  \n",
       "1             280  \n",
       "2              78  \n",
       "3             129  \n",
       "4              97  "
      ]
     },
     "execution_count": 33,
     "metadata": {},
     "output_type": "execute_result"
    }
   ],
   "source": [
    "df = pd.read_csv(r\"D:\\Lin Red using Numpy\\HappinessAlcoholConsumption.csv\", usecols = ['Country','Beer_PerCapita','Spirit_PerCapita','Wine_PerCapita','HappinessScore'])\n",
    "\n",
    "df.head()"
   ]
  },
  {
   "cell_type": "markdown",
   "id": "2621df37",
   "metadata": {},
   "source": [
    "### 2. Checking Data Types of Columns"
   ]
  },
  {
   "cell_type": "code",
   "execution_count": 34,
   "id": "a2b8ae83",
   "metadata": {},
   "outputs": [
    {
     "data": {
      "text/plain": [
       "Country              object\n",
       "HappinessScore      float64\n",
       "Beer_PerCapita        int64\n",
       "Spirit_PerCapita      int64\n",
       "Wine_PerCapita        int64\n",
       "dtype: object"
      ]
     },
     "execution_count": 34,
     "metadata": {},
     "output_type": "execute_result"
    }
   ],
   "source": [
    "df.dtypes"
   ]
  },
  {
   "cell_type": "markdown",
   "id": "a7a5de52",
   "metadata": {},
   "source": [
    "### 3. Finding Total Alcohol Consumption"
   ]
  },
  {
   "cell_type": "code",
   "execution_count": 35,
   "id": "49ca944e",
   "metadata": {},
   "outputs": [
    {
     "data": {
      "text/html": [
       "<div>\n",
       "<style scoped>\n",
       "    .dataframe tbody tr th:only-of-type {\n",
       "        vertical-align: middle;\n",
       "    }\n",
       "\n",
       "    .dataframe tbody tr th {\n",
       "        vertical-align: top;\n",
       "    }\n",
       "\n",
       "    .dataframe thead th {\n",
       "        text-align: right;\n",
       "    }\n",
       "</style>\n",
       "<table border=\"1\" class=\"dataframe\">\n",
       "  <thead>\n",
       "    <tr style=\"text-align: right;\">\n",
       "      <th></th>\n",
       "      <th>Country</th>\n",
       "      <th>HappinessScore</th>\n",
       "      <th>Beer_PerCapita</th>\n",
       "      <th>Spirit_PerCapita</th>\n",
       "      <th>Wine_PerCapita</th>\n",
       "      <th>Alcohol_consumption</th>\n",
       "    </tr>\n",
       "  </thead>\n",
       "  <tbody>\n",
       "    <tr>\n",
       "      <th>66</th>\n",
       "      <td>Turkey</td>\n",
       "      <td>5.389</td>\n",
       "      <td>51</td>\n",
       "      <td>22</td>\n",
       "      <td>7</td>\n",
       "      <td>80</td>\n",
       "    </tr>\n",
       "    <tr>\n",
       "      <th>61</th>\n",
       "      <td>Paraguay</td>\n",
       "      <td>5.538</td>\n",
       "      <td>213</td>\n",
       "      <td>117</td>\n",
       "      <td>74</td>\n",
       "      <td>404</td>\n",
       "    </tr>\n",
       "    <tr>\n",
       "      <th>2</th>\n",
       "      <td>Iceland</td>\n",
       "      <td>7.501</td>\n",
       "      <td>233</td>\n",
       "      <td>61</td>\n",
       "      <td>78</td>\n",
       "      <td>372</td>\n",
       "    </tr>\n",
       "    <tr>\n",
       "      <th>98</th>\n",
       "      <td>Dem. Rep. Congo</td>\n",
       "      <td>4.272</td>\n",
       "      <td>32</td>\n",
       "      <td>3</td>\n",
       "      <td>1</td>\n",
       "      <td>36</td>\n",
       "    </tr>\n",
       "    <tr>\n",
       "      <th>15</th>\n",
       "      <td>Brazil</td>\n",
       "      <td>6.952</td>\n",
       "      <td>245</td>\n",
       "      <td>145</td>\n",
       "      <td>16</td>\n",
       "      <td>406</td>\n",
       "    </tr>\n",
       "  </tbody>\n",
       "</table>\n",
       "</div>"
      ],
      "text/plain": [
       "            Country  HappinessScore  Beer_PerCapita  Spirit_PerCapita  \\\n",
       "66           Turkey           5.389              51                22   \n",
       "61         Paraguay           5.538             213               117   \n",
       "2           Iceland           7.501             233                61   \n",
       "98  Dem. Rep. Congo           4.272              32                 3   \n",
       "15           Brazil           6.952             245               145   \n",
       "\n",
       "    Wine_PerCapita  Alcohol_consumption  \n",
       "66               7                   80  \n",
       "61              74                  404  \n",
       "2               78                  372  \n",
       "98               1                   36  \n",
       "15              16                  406  "
      ]
     },
     "execution_count": 35,
     "metadata": {},
     "output_type": "execute_result"
    }
   ],
   "source": [
    "df['Alcohol_consumption'] = df['Beer_PerCapita'] + df['Spirit_PerCapita'] + df['Wine_PerCapita']\n",
    "\n",
    "df.sample(5)"
   ]
  },
  {
   "cell_type": "code",
   "execution_count": 36,
   "id": "64a2977e",
   "metadata": {},
   "outputs": [
    {
     "data": {
      "text/html": [
       "<div>\n",
       "<style scoped>\n",
       "    .dataframe tbody tr th:only-of-type {\n",
       "        vertical-align: middle;\n",
       "    }\n",
       "\n",
       "    .dataframe tbody tr th {\n",
       "        vertical-align: top;\n",
       "    }\n",
       "\n",
       "    .dataframe thead th {\n",
       "        text-align: right;\n",
       "    }\n",
       "</style>\n",
       "<table border=\"1\" class=\"dataframe\">\n",
       "  <thead>\n",
       "    <tr style=\"text-align: right;\">\n",
       "      <th></th>\n",
       "      <th>Country</th>\n",
       "      <th>HappinessScore</th>\n",
       "      <th>Alcohol_consumption</th>\n",
       "    </tr>\n",
       "  </thead>\n",
       "  <tbody>\n",
       "    <tr>\n",
       "      <th>21</th>\n",
       "      <td>United Kingdom</td>\n",
       "      <td>6.725</td>\n",
       "      <td>540</td>\n",
       "    </tr>\n",
       "    <tr>\n",
       "      <th>58</th>\n",
       "      <td>Mauritius</td>\n",
       "      <td>5.648</td>\n",
       "      <td>147</td>\n",
       "    </tr>\n",
       "    <tr>\n",
       "      <th>22</th>\n",
       "      <td>Chile</td>\n",
       "      <td>6.705</td>\n",
       "      <td>426</td>\n",
       "    </tr>\n",
       "    <tr>\n",
       "      <th>38</th>\n",
       "      <td>Venezuela</td>\n",
       "      <td>6.084</td>\n",
       "      <td>436</td>\n",
       "    </tr>\n",
       "    <tr>\n",
       "      <th>4</th>\n",
       "      <td>Finland</td>\n",
       "      <td>7.413</td>\n",
       "      <td>493</td>\n",
       "    </tr>\n",
       "  </tbody>\n",
       "</table>\n",
       "</div>"
      ],
      "text/plain": [
       "           Country  HappinessScore  Alcohol_consumption\n",
       "21  United Kingdom           6.725                  540\n",
       "58       Mauritius           5.648                  147\n",
       "22           Chile           6.705                  426\n",
       "38       Venezuela           6.084                  436\n",
       "4          Finland           7.413                  493"
      ]
     },
     "execution_count": 36,
     "metadata": {},
     "output_type": "execute_result"
    }
   ],
   "source": [
    "df = df.drop(columns = ['Beer_PerCapita','Spirit_PerCapita','Wine_PerCapita'])\n",
    "\n",
    "df.sample(5)"
   ]
  },
  {
   "cell_type": "markdown",
   "id": "11c923b4",
   "metadata": {},
   "source": [
    "### 4. Filtering Data to work on"
   ]
  },
  {
   "cell_type": "code",
   "execution_count": 37,
   "id": "b241b867",
   "metadata": {},
   "outputs": [
    {
     "data": {
      "text/html": [
       "<div>\n",
       "<style scoped>\n",
       "    .dataframe tbody tr th:only-of-type {\n",
       "        vertical-align: middle;\n",
       "    }\n",
       "\n",
       "    .dataframe tbody tr th {\n",
       "        vertical-align: top;\n",
       "    }\n",
       "\n",
       "    .dataframe thead th {\n",
       "        text-align: right;\n",
       "    }\n",
       "</style>\n",
       "<table border=\"1\" class=\"dataframe\">\n",
       "  <thead>\n",
       "    <tr style=\"text-align: right;\">\n",
       "      <th></th>\n",
       "      <th>Alcohol_consumption</th>\n",
       "      <th>HappinessScore</th>\n",
       "    </tr>\n",
       "  </thead>\n",
       "  <tbody>\n",
       "    <tr>\n",
       "      <th>0</th>\n",
       "      <td>583</td>\n",
       "      <td>7.526</td>\n",
       "    </tr>\n",
       "    <tr>\n",
       "      <th>1</th>\n",
       "      <td>565</td>\n",
       "      <td>7.509</td>\n",
       "    </tr>\n",
       "    <tr>\n",
       "      <th>2</th>\n",
       "      <td>372</td>\n",
       "      <td>7.501</td>\n",
       "    </tr>\n",
       "    <tr>\n",
       "      <th>3</th>\n",
       "      <td>369</td>\n",
       "      <td>7.498</td>\n",
       "    </tr>\n",
       "    <tr>\n",
       "      <th>4</th>\n",
       "      <td>493</td>\n",
       "      <td>7.413</td>\n",
       "    </tr>\n",
       "  </tbody>\n",
       "</table>\n",
       "</div>"
      ],
      "text/plain": [
       "   Alcohol_consumption  HappinessScore\n",
       "0                  583           7.526\n",
       "1                  565           7.509\n",
       "2                  372           7.501\n",
       "3                  369           7.498\n",
       "4                  493           7.413"
      ]
     },
     "execution_count": 37,
     "metadata": {},
     "output_type": "execute_result"
    }
   ],
   "source": [
    "filtered_df = df[['Alcohol_consumption','HappinessScore']]\n",
    "filtered_df.head()"
   ]
  },
  {
   "cell_type": "markdown",
   "id": "52268be7",
   "metadata": {},
   "source": [
    "# Working With NumPy "
   ]
  },
  {
   "cell_type": "markdown",
   "id": "07e88bac",
   "metadata": {},
   "source": [
    "### 1. Transforming Data into a Matrix"
   ]
  },
  {
   "cell_type": "code",
   "execution_count": 38,
   "id": "f5a74206",
   "metadata": {},
   "outputs": [
    {
     "data": {
      "text/plain": [
       "array([[583.   ,   7.526],\n",
       "       [565.   ,   7.509],\n",
       "       [372.   ,   7.501],\n",
       "       [369.   ,   7.498],\n",
       "       [493.   ,   7.413]])"
      ]
     },
     "execution_count": 38,
     "metadata": {},
     "output_type": "execute_result"
    }
   ],
   "source": [
    "matrix = np.array(filtered_df.values,'float')\n",
    "matrix[0:5,:]"
   ]
  },
  {
   "cell_type": "markdown",
   "id": "5919deda",
   "metadata": {},
   "source": [
    "### 2. Declaring Independent(X) and Dependent(Y) Variables"
   ]
  },
  {
   "cell_type": "code",
   "execution_count": 39,
   "id": "87ec1988",
   "metadata": {},
   "outputs": [],
   "source": [
    "X = matrix[:,0]\n",
    "Y = matrix[:,1]"
   ]
  },
  {
   "cell_type": "markdown",
   "id": "63d1cdbc",
   "metadata": {},
   "source": [
    "\n",
    "# Visualization "
   ]
  },
  {
   "cell_type": "code",
   "execution_count": 40,
   "id": "25d2fc0d",
   "metadata": {},
   "outputs": [
    {
     "data": {
      "image/png": "[encoded data removed]",
      "text/plain": [
       "<Figure size 640x480 with 1 Axes>"
      ]
     },
     "metadata": {},
     "output_type": "display_data"
    }
   ],
   "source": [
    "plt.plot(X,Y,'go')                             # plots graph\n",
    "plt.title('Alcohol Consmpution V/S Happiness') # Sets title of the graph\n",
    "plt.xlabel(\"AlcoholConsmpution\")               # label x-axis\n",
    "plt.ylabel('Happiness Score')                  # Label y-axis\n",
    "plt.legend(['Happiness Score'])                # display legend\n",
    "plt.grid()                                     # showa\n",
    "plt.show()"
   ]
  },
  {
   "cell_type": "markdown",
   "id": "a05906cf",
   "metadata": {},
   "source": [
    "# Applying Linear Regression From Scratch"
   ]
  },
  {
   "cell_type": "markdown",
   "id": "4e750729",
   "metadata": {},
   "source": [
    "## The Equation of Linear Regression is, $(y - y1) = byx(x - x1)$"
   ]
  },
  {
   "cell_type": "markdown",
   "id": "fc81f14f",
   "metadata": {},
   "source": [
    "### where, \n",
    "             byx is slope of the equation\n",
    "                      byx = (ΣXY - (ΣXΣY)/n) / Σ(X^2) - ((ΣX)^2)/n\n",
    "             y1 is mean of dependent variable\n",
    "             x1 is mean of independent variable"
   ]
  },
  {
   "cell_type": "code",
   "execution_count": 41,
   "id": "849132f7",
   "metadata": {},
   "outputs": [],
   "source": [
    "X_squared = np.sum(X ** 2)\n",
    "Y_squared = np.sum(Y ** 2)\n",
    "sum_XY = np.sum(X * Y)\n",
    "D = (np.sum(X) * np.sum(Y))/X.size\n",
    "sum_X = (np.sum(X) ** 2)/X.size\n",
    "sum_Y = (np.sum(Y) ** 2)/Y.size"
   ]
  },
  {
   "cell_type": "code",
   "execution_count": 42,
   "id": "5f8deddf",
   "metadata": {},
   "outputs": [
    {
     "name": "stdout",
     "output_type": "stream",
     "text": [
      "0.0030658252248615347\n"
     ]
    }
   ],
   "source": [
    "b_YX = (sum_XY - D)/(X_squared - sum_X)\n",
    "print(b_YX)"
   ]
  },
  {
   "cell_type": "code",
   "execution_count": 43,
   "id": "f5579c3c",
   "metadata": {},
   "outputs": [],
   "source": [
    "y = b_YX * (X- np.mean(X)) + np.mean(Y)"
   ]
  },
  {
   "cell_type": "markdown",
   "id": "aedaef6c",
   "metadata": {},
   "source": [
    "# Plotting Line "
   ]
  },
  {
   "cell_type": "code",
   "execution_count": 44,
   "id": "c95b2b48",
   "metadata": {},
   "outputs": [
    {
     "data": {
      "image/png": "[encoded data removed]",
      "text/plain": [
       "<Figure size 640x480 with 1 Axes>"
      ]
     },
     "metadata": {},
     "output_type": "display_data"
    }
   ],
   "source": [
    "plt.figure()\n",
    "plt.plot(X,Y,'go',label = 'Training Data')\n",
    "plt.title('Alcohol Consmpution V/S Happiness')\n",
    "plt.xlabel(\"AlcoholConsmpution\")\n",
    "plt.ylabel('Happiness Score')\n",
    "plt.plot(X,y,'r', label = 'Linear Regression')\n",
    "plt.legend(['Happiness Score','Linear Fit'])\n",
    "plt.grid()\n",
    "plt.show()"
   ]
  },
  {
   "cell_type": "markdown",
   "id": "652e7c17",
   "metadata": {},
   "source": [
    "# Mean Square Error "
   ]
  },
  {
   "cell_type": "code",
   "execution_count": 45,
   "id": "6e14d944",
   "metadata": {},
   "outputs": [
    {
     "name": "stdout",
     "output_type": "stream",
     "text": [
      "0.9165196840348291\n"
     ]
    }
   ],
   "source": [
    "MSE = np.sum((Y - y) ** 2)/X.size\n",
    "print(MSE)"
   ]
  }
 ],
 "metadata": {
  "kernelspec": {
   "display_name": "Python 3 (ipykernel)",
   "language": "python",
   "name": "python3"
  },
  "language_info": {
   "codemirror_mode": {
    "name": "ipython",
    "version": 3
   },
   "file_extension": ".py",
   "mimetype": "text/x-python",
   "name": "python",
   "nbconvert_exporter": "python",
   "pygments_lexer": "ipython3",
   "version": "3.9.12"
  }
 },
 "nbformat": 4,
 "nbformat_minor": 5
}
